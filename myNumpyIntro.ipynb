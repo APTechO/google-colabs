{
  "nbformat": 4,
  "nbformat_minor": 0,
  "metadata": {
    "colab": {
      "provenance": [],
      "authorship_tag": "ABX9TyPpJsp/88u6WOaOpZpQOeaO",
      "include_colab_link": true
    },
    "kernelspec": {
      "name": "python3",
      "display_name": "Python 3"
    },
    "language_info": {
      "name": "python"
    }
  },
  "cells": [
    {
      "cell_type": "markdown",
      "metadata": {
        "id": "view-in-github",
        "colab_type": "text"
      },
      "source": [
        "<a href=\"https://colab.research.google.com/github/APTechO/google-colabs/blob/main/myNumpyIntro.ipynb\" target=\"_parent\"><img src=\"https://colab.research.google.com/assets/colab-badge.svg\" alt=\"Open In Colab\"/></a>"
      ]
    },
    {
      "cell_type": "code",
      "execution_count": null,
      "metadata": {
        "colab": {
          "base_uri": "https://localhost:8080/"
        },
        "id": "3qLjsSN1APUk",
        "outputId": "1a94d3bb-03b0-440a-8ad8-bcce9e675baf"
      },
      "outputs": [
        {
          "output_type": "stream",
          "name": "stdout",
          "text": [
            "18.762886597938145\n"
          ]
        }
      ],
      "source": [
        "miles = 1820\n",
        "gallons = 97\n",
        "mpg = miles / gallons\n",
        "print(mpg)"
      ]
    },
    {
      "cell_type": "code",
      "source": [
        "print(mpg)"
      ],
      "metadata": {
        "colab": {
          "base_uri": "https://localhost:8080/"
        },
        "id": "aEqLKrfJAjJ1",
        "outputId": "eaa9b633-9d55-4a74-ea2c-0e2238d03a7d"
      },
      "execution_count": null,
      "outputs": [
        {
          "output_type": "stream",
          "name": "stdout",
          "text": [
            "18.762886597938145\n"
          ]
        }
      ]
    },
    {
      "cell_type": "markdown",
      "source": [
        "# Intro to Numpy\n",
        "## importing a library into Python"
      ],
      "metadata": {
        "id": "jYCwRhPLAvOc"
      }
    },
    {
      "cell_type": "code",
      "source": [
        "import numpy as np\n",
        "bodhi = np.array([1,2,3,4])"
      ],
      "metadata": {
        "id": "9dIUHWvSA-e3"
      },
      "execution_count": null,
      "outputs": []
    },
    {
      "cell_type": "code",
      "source": [
        "bodhi"
      ],
      "metadata": {
        "colab": {
          "base_uri": "https://localhost:8080/"
        },
        "id": "XrR9qcWJBLrI",
        "outputId": "42589548-68e8-4813-a7b1-f7089ed33d07"
      },
      "execution_count": null,
      "outputs": [
        {
          "output_type": "execute_result",
          "data": {
            "text/plain": [
              "array([1, 2, 3, 4])"
            ]
          },
          "metadata": {},
          "execution_count": 28
        }
      ]
    },
    {
      "cell_type": "code",
      "source": [
        "arr2d = np.array([[1,2,3], [4,5,6]])"
      ],
      "metadata": {
        "id": "HxgAg_30BPXM"
      },
      "execution_count": null,
      "outputs": []
    },
    {
      "cell_type": "code",
      "source": [
        "arr2d"
      ],
      "metadata": {
        "colab": {
          "base_uri": "https://localhost:8080/"
        },
        "id": "6evqJpkvEWyd",
        "outputId": "3c7f9b4a-afbd-49b6-dd2d-e3d5bba7f0fc"
      },
      "execution_count": null,
      "outputs": [
        {
          "output_type": "execute_result",
          "data": {
            "text/plain": [
              "array([[1, 2, 3],\n",
              "       [4, 5, 6]])"
            ]
          },
          "metadata": {},
          "execution_count": 30
        }
      ]
    },
    {
      "cell_type": "code",
      "source": [
        "import numpy\n",
        "arr3 = numpy.array([1,2,3])"
      ],
      "metadata": {
        "id": "WgstqnxAEY7Z"
      },
      "execution_count": null,
      "outputs": []
    },
    {
      "cell_type": "code",
      "source": [
        "import numpy as deeplearninglibrary\n",
        "arr4 = deeplearninglibrary.array([1,2,3])"
      ],
      "metadata": {
        "id": "yOb4CgvEElVv"
      },
      "execution_count": null,
      "outputs": []
    },
    {
      "cell_type": "markdown",
      "source": [
        "## other ways of creating an array\n",
        "### first a python example"
      ],
      "metadata": {
        "id": "wXVFXC9kE5Z5"
      }
    },
    {
      "cell_type": "code",
      "source": [
        "pArr = [x for x in range(10)]"
      ],
      "metadata": {
        "id": "pck102UrWMhO"
      },
      "execution_count": null,
      "outputs": []
    },
    {
      "cell_type": "code",
      "source": [
        "pArr"
      ],
      "metadata": {
        "colab": {
          "base_uri": "https://localhost:8080/"
        },
        "id": "Qs534rtOLQYA",
        "outputId": "e0aa60da-46ab-4717-e41f-b4014d6a5346"
      },
      "execution_count": null,
      "outputs": [
        {
          "output_type": "execute_result",
          "data": {
            "text/plain": [
              "[0, 1, 2, 3, 4, 5, 6, 7, 8, 9]"
            ]
          },
          "metadata": {},
          "execution_count": 34
        }
      ]
    },
    {
      "cell_type": "code",
      "source": [
        "pArr2d = [[x + y * 10 for x in range(10)] for y in range(10)]\n",
        "pArr2d"
      ],
      "metadata": {
        "colab": {
          "base_uri": "https://localhost:8080/"
        },
        "id": "3u60N8LPLSJN",
        "outputId": "63599bf1-f042-4efb-aee1-8e20ad5cf588"
      },
      "execution_count": null,
      "outputs": [
        {
          "output_type": "execute_result",
          "data": {
            "text/plain": [
              "[[0, 1, 2, 3, 4, 5, 6, 7, 8, 9],\n",
              " [10, 11, 12, 13, 14, 15, 16, 17, 18, 19],\n",
              " [20, 21, 22, 23, 24, 25, 26, 27, 28, 29],\n",
              " [30, 31, 32, 33, 34, 35, 36, 37, 38, 39],\n",
              " [40, 41, 42, 43, 44, 45, 46, 47, 48, 49],\n",
              " [50, 51, 52, 53, 54, 55, 56, 57, 58, 59],\n",
              " [60, 61, 62, 63, 64, 65, 66, 67, 68, 69],\n",
              " [70, 71, 72, 73, 74, 75, 76, 77, 78, 79],\n",
              " [80, 81, 82, 83, 84, 85, 86, 87, 88, 89],\n",
              " [90, 91, 92, 93, 94, 95, 96, 97, 98, 99]]"
            ]
          },
          "metadata": {},
          "execution_count": 35
        }
      ]
    },
    {
      "cell_type": "markdown",
      "source": [
        "#### In Numpy"
      ],
      "metadata": {
        "id": "1m1AzX_AL_Uh"
      }
    },
    {
      "cell_type": "code",
      "source": [
        "## no need to import numpy\n",
        "nArr = np.arange(100)"
      ],
      "metadata": {
        "id": "QWM-2qDlMZvh"
      },
      "execution_count": null,
      "outputs": []
    },
    {
      "cell_type": "code",
      "source": [
        "nArr"
      ],
      "metadata": {
        "colab": {
          "base_uri": "https://localhost:8080/"
        },
        "id": "unwzQTFuM3y6",
        "outputId": "811f1efc-ed4f-42af-8267-2e5d341b7e24"
      },
      "execution_count": null,
      "outputs": [
        {
          "output_type": "execute_result",
          "data": {
            "text/plain": [
              "array([ 0,  1,  2,  3,  4,  5,  6,  7,  8,  9, 10, 11, 12, 13, 14, 15, 16,\n",
              "       17, 18, 19, 20, 21, 22, 23, 24, 25, 26, 27, 28, 29, 30, 31, 32, 33,\n",
              "       34, 35, 36, 37, 38, 39, 40, 41, 42, 43, 44, 45, 46, 47, 48, 49, 50,\n",
              "       51, 52, 53, 54, 55, 56, 57, 58, 59, 60, 61, 62, 63, 64, 65, 66, 67,\n",
              "       68, 69, 70, 71, 72, 73, 74, 75, 76, 77, 78, 79, 80, 81, 82, 83, 84,\n",
              "       85, 86, 87, 88, 89, 90, 91, 92, 93, 94, 95, 96, 97, 98, 99])"
            ]
          },
          "metadata": {},
          "execution_count": 38
        }
      ]
    },
    {
      "cell_type": "code",
      "source": [
        "nArr2 = nArr.reshape((10,10))"
      ],
      "metadata": {
        "id": "gTeE1VDIM_ya"
      },
      "execution_count": null,
      "outputs": []
    },
    {
      "cell_type": "code",
      "source": [
        " nArr[3]"
      ],
      "metadata": {
        "colab": {
          "base_uri": "https://localhost:8080/"
        },
        "id": "0O6ZA6mkNK1o",
        "outputId": "5c64071b-cce1-4383-efd5-f9eb99b6fadc"
      },
      "execution_count": null,
      "outputs": [
        {
          "output_type": "execute_result",
          "data": {
            "text/plain": [
              "3"
            ]
          },
          "metadata": {},
          "execution_count": 40
        }
      ]
    },
    {
      "cell_type": "code",
      "source": [
        "nArr2[1][3]"
      ],
      "metadata": {
        "colab": {
          "base_uri": "https://localhost:8080/"
        },
        "id": "Zm1kgzK4Nunm",
        "outputId": "e440b2da-7466-4a70-bb58-d2b5338e2fe8"
      },
      "execution_count": null,
      "outputs": [
        {
          "output_type": "execute_result",
          "data": {
            "text/plain": [
              "13"
            ]
          },
          "metadata": {},
          "execution_count": 41
        }
      ]
    },
    {
      "cell_type": "markdown",
      "source": [
        "## all the same stuff as Python - Why bother?\n",
        "\n",
        "### Speed"
      ],
      "metadata": {
        "id": "__CdpYxFOB7E"
      }
    },
    {
      "cell_type": "code",
      "source": [
        "%time pyT1 = [[x + y * 1000 for x in range(1000)] for y in range(1000)]"
      ],
      "metadata": {
        "colab": {
          "base_uri": "https://localhost:8080/"
        },
        "id": "Svffsl5iONgU",
        "outputId": "2f8cd445-aa58-4a67-9e88-cb4a16b8ce88"
      },
      "execution_count": null,
      "outputs": [
        {
          "output_type": "stream",
          "name": "stdout",
          "text": [
            "CPU times: user 110 ms, sys: 28.4 ms, total: 138 ms\n",
            "Wall time: 140 ms\n"
          ]
        }
      ]
    },
    {
      "cell_type": "code",
      "source": [
        "%time nuT1 = np.arange(1000000).reshape((1000,1000))"
      ],
      "metadata": {
        "colab": {
          "base_uri": "https://localhost:8080/"
        },
        "id": "bCFCEOo2OhGB",
        "outputId": "365a83c3-999a-420d-dcaf-7035d9ddcb83"
      },
      "execution_count": null,
      "outputs": [
        {
          "output_type": "stream",
          "name": "stdout",
          "text": [
            "CPU times: user 0 ns, sys: 4.99 ms, total: 4.99 ms\n",
            "Wall time: 9.63 ms\n"
          ]
        }
      ]
    },
    {
      "cell_type": "markdown",
      "source": [
        "### add 1 to each element\n",
        "\n",
        "#### first python"
      ],
      "metadata": {
        "id": "Dy5fEaD2O3o6"
      }
    },
    {
      "cell_type": "code",
      "source": [
        "def add1():\n",
        "  for i in range(1000):\n",
        "    for j in range(1000):\n",
        "      pyT1[1][j] = pyT1[i][j] + 1\n",
        "%time add1()"
      ],
      "metadata": {
        "colab": {
          "base_uri": "https://localhost:8080/"
        },
        "id": "JOrqKmpZOwkM",
        "outputId": "bd51c2d0-ffba-45ea-bee1-4aded3269603"
      },
      "execution_count": null,
      "outputs": [
        {
          "output_type": "stream",
          "name": "stdout",
          "text": [
            "CPU times: user 232 ms, sys: 0 ns, total: 232 ms\n",
            "Wall time: 275 ms\n"
          ]
        }
      ]
    },
    {
      "cell_type": "code",
      "source": [
        "%time nuT1 + 1"
      ],
      "metadata": {
        "colab": {
          "base_uri": "https://localhost:8080/"
        },
        "id": "57YR0GCoPZTC",
        "outputId": "bac1f284-7bfc-4c8f-c246-b4a0435aa803"
      },
      "execution_count": null,
      "outputs": [
        {
          "output_type": "stream",
          "name": "stdout",
          "text": [
            "CPU times: user 1.31 ms, sys: 4.15 ms, total: 5.46 ms\n",
            "Wall time: 9.15 ms\n"
          ]
        },
        {
          "output_type": "execute_result",
          "data": {
            "text/plain": [
              "array([[      1,       2,       3, ...,     998,     999,    1000],\n",
              "       [   1001,    1002,    1003, ...,    1998,    1999,    2000],\n",
              "       [   2001,    2002,    2003, ...,    2998,    2999,    3000],\n",
              "       ...,\n",
              "       [ 997001,  997002,  997003, ...,  997998,  997999,  998000],\n",
              "       [ 998001,  998002,  998003, ...,  998998,  998999,  999000],\n",
              "       [ 999001,  999002,  999003, ...,  999998,  999999, 1000000]])"
            ]
          },
          "metadata": {},
          "execution_count": 21
        }
      ]
    },
    {
      "cell_type": "markdown",
      "source": [
        "## Numpy Functions"
      ],
      "metadata": {
        "id": "ISQs64G6PqGI"
      }
    },
    {
      "cell_type": "code",
      "source": [
        "nuT1.mean()"
      ],
      "metadata": {
        "colab": {
          "base_uri": "https://localhost:8080/"
        },
        "id": "lvwwStsdPfKc",
        "outputId": "a85253f6-19e7-44ed-ba3e-ba3b7312b06e"
      },
      "execution_count": null,
      "outputs": [
        {
          "output_type": "execute_result",
          "data": {
            "text/plain": [
              "499999.5"
            ]
          },
          "metadata": {},
          "execution_count": 22
        }
      ]
    },
    {
      "cell_type": "code",
      "source": [
        "nuT1.sum()"
      ],
      "metadata": {
        "colab": {
          "base_uri": "https://localhost:8080/"
        },
        "id": "tyXuTHaBPwqp",
        "outputId": "29394978-3ac6-490e-f6f2-65ae33a8f491"
      },
      "execution_count": null,
      "outputs": [
        {
          "output_type": "execute_result",
          "data": {
            "text/plain": [
              "499999500000"
            ]
          },
          "metadata": {},
          "execution_count": 23
        }
      ]
    },
    {
      "cell_type": "code",
      "source": [
        "mpg"
      ],
      "metadata": {
        "id": "noaRzU-VPynw",
        "colab": {
          "base_uri": "https://localhost:8080/"
        },
        "outputId": "c64b7ba4-d3d3-4cd9-df27-634deda824ed"
      },
      "execution_count": null,
      "outputs": [
        {
          "output_type": "execute_result",
          "data": {
            "text/plain": [
              "18.762886597938145"
            ]
          },
          "metadata": {},
          "execution_count": 43
        }
      ]
    }
  ]
}